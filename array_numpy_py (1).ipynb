{
  "nbformat": 4,
  "nbformat_minor": 0,
  "metadata": {
    "colab": {
      "provenance": []
    },
    "kernelspec": {
      "name": "python3",
      "display_name": "Python 3"
    },
    "language_info": {
      "name": "python"
    }
  },
  "cells": [
    {
      "cell_type": "code",
      "execution_count": null,
      "metadata": {
        "colab": {
          "base_uri": "https://localhost:8080/"
        },
        "id": "t_PWfu-O02ky",
        "outputId": "138b4dc2-0da6-419e-dacf-2c545a27e5ac"
      },
      "outputs": [
        {
          "output_type": "stream",
          "name": "stdout",
          "text": [
            "90\n"
          ]
        }
      ],
      "source": [
        "import numpy as np\n",
        "nilai_siswa = np.array([85, 55, 40, 90])\n",
        "print(nilai_siswa[3])"
      ]
    },
    {
      "cell_type": "code",
      "source": [
        "print(\"Hello, world!\")\n",
        "print(\"Nama Saya Nicky Brilliant Suryadi Langit\")\n",
        "print(\"Nim saya 2024071027\")\n"
      ],
      "metadata": {
        "colab": {
          "base_uri": "https://localhost:8080/"
        },
        "id": "iLHnGi971bky",
        "outputId": "2124dff0-8e31-42ef-b843-514bbd2112ca"
      },
      "execution_count": null,
      "outputs": [
        {
          "output_type": "stream",
          "name": "stdout",
          "text": [
            "Hello, world!\n",
            "Nama Saya Nicky Brilliant Suryadi Langit\n",
            "Nim saya 2024071027\n"
          ]
        }
      ]
    },
    {
      "cell_type": "code",
      "source": [
        "if 5>2:\n",
        "  print(\"Five is greater than two!\")"
      ],
      "metadata": {
        "colab": {
          "base_uri": "https://localhost:8080/"
        },
        "id": "oYfmcya32YYS",
        "outputId": "48d56e55-9cd7-4583-d8cf-8385a54ca7ac"
      },
      "execution_count": null,
      "outputs": [
        {
          "output_type": "stream",
          "name": "stdout",
          "text": [
            "Five is greater than two!\n"
          ]
        }
      ]
    },
    {
      "cell_type": "code",
      "source": [
        "x = 5\n",
        "y = \"Jhon\"\n",
        "print(x)\n",
        "print(y)"
      ],
      "metadata": {
        "colab": {
          "base_uri": "https://localhost:8080/"
        },
        "id": "T6xTw7TY2qza",
        "outputId": "7f7bce79-1fe7-4afd-cba6-c7f2f3642853"
      },
      "execution_count": null,
      "outputs": [
        {
          "output_type": "stream",
          "name": "stdout",
          "text": [
            "5\n",
            "Jhon\n"
          ]
        }
      ]
    },
    {
      "cell_type": "code",
      "source": [
        "x = 4\n",
        "x = \"Sally\"\n",
        "print(x)"
      ],
      "metadata": {
        "colab": {
          "base_uri": "https://localhost:8080/"
        },
        "id": "i7fZXOTf2-Qh",
        "outputId": "468acc68-3958-4005-8965-3dc31413afec"
      },
      "execution_count": null,
      "outputs": [
        {
          "output_type": "stream",
          "name": "stdout",
          "text": [
            "Sally\n"
          ]
        }
      ]
    },
    {
      "cell_type": "code",
      "source": [
        "def getFirst(myList):\n",
        "    return(myList[0])\n",
        "getFirst([1,2,3])"
      ],
      "metadata": {
        "colab": {
          "base_uri": "https://localhost:8080/"
        },
        "id": "FWooqkQa3RQ6",
        "outputId": "4146cecf-90cd-4116-ade2-288e4aa4929d"
      },
      "execution_count": null,
      "outputs": [
        {
          "output_type": "execute_result",
          "data": {
            "text/plain": [
              "1"
            ]
          },
          "metadata": {},
          "execution_count": 35
        }
      ]
    },
    {
      "cell_type": "code",
      "source": [
        "getFirst([1,2,3])"
      ],
      "metadata": {
        "colab": {
          "base_uri": "https://localhost:8080/"
        },
        "id": "VK3c97sV3oSQ",
        "outputId": "56314adf-f999-4d80-ac56-3d6844546ccd"
      },
      "execution_count": null,
      "outputs": [
        {
          "output_type": "execute_result",
          "data": {
            "text/plain": [
              "1"
            ]
          },
          "metadata": {},
          "execution_count": 27
        }
      ]
    },
    {
      "cell_type": "code",
      "source": [
        "getFirst([1,2,3,4,5,6,7,8,9,])"
      ],
      "metadata": {
        "colab": {
          "base_uri": "https://localhost:8080/"
        },
        "id": "RyEkGaeo34CB",
        "outputId": "1508692e-349f-4ead-ab52-42315279f48e"
      },
      "execution_count": null,
      "outputs": [
        {
          "output_type": "execute_result",
          "data": {
            "text/plain": [
              "1"
            ]
          },
          "metadata": {},
          "execution_count": 22
        }
      ]
    },
    {
      "cell_type": "code",
      "source": [
        "#Jika getFirst diperoleh dari myList [0], bagaimana memperoleh getSecond?\n",
        "\n",
        "def getSecond(myList):\n",
        "    return myList[1]\n",
        "\n",
        "print(getSecond([1, 2, 3]))\n",
        "print(getSecond([4, 5, 6]))\n"
      ],
      "metadata": {
        "colab": {
          "base_uri": "https://localhost:8080/"
        },
        "id": "UMROXwx3xGdR",
        "outputId": "ba839458-55e7-4275-9dea-0c4ad702debe"
      },
      "execution_count": 3,
      "outputs": [
        {
          "output_type": "stream",
          "name": "stdout",
          "text": [
            "2\n",
            "5\n"
          ]
        }
      ]
    },
    {
      "cell_type": "code",
      "source": [
        "#Jika getFirst diperoleh dari myList [0], bagaimana memperoleh getLast (isi terakhir)?\n",
        "\n",
        "def getLast(myList):\n",
        "    return myList[-1]\n",
        "\n",
        "print(getLast([1, 2, 3]))\n",
        "print(getLast([4, 5, 6, 7]))\n"
      ],
      "metadata": {
        "colab": {
          "base_uri": "https://localhost:8080/"
        },
        "id": "R8BpzSuOxsqg",
        "outputId": "3d37ef44-c277-4b19-bd1d-1df3ad3d91d1"
      },
      "execution_count": 4,
      "outputs": [
        {
          "output_type": "stream",
          "name": "stdout",
          "text": [
            "3\n",
            "7\n"
          ]
        }
      ]
    },
    {
      "cell_type": "code",
      "source": [
        "def getSum(myList):\n",
        "    sum = 0\n",
        "    for item in myList:\n",
        "        sum = sum + item\n",
        "    return sum\n"
      ],
      "metadata": {
        "id": "Qefs3jEcyktS"
      },
      "execution_count": 6,
      "outputs": []
    },
    {
      "cell_type": "code",
      "source": [
        "print(getSum([1, 2, 3, 4]))"
      ],
      "metadata": {
        "colab": {
          "base_uri": "https://localhost:8080/"
        },
        "id": "Uhu15uUlzBE-",
        "outputId": "9d171582-982a-461e-effa-d2321a668cf0"
      },
      "execution_count": 8,
      "outputs": [
        {
          "output_type": "stream",
          "name": "stdout",
          "text": [
            "10\n"
          ]
        }
      ]
    },
    {
      "cell_type": "code",
      "source": [
        "print(getSum([1, 2, 3]))\n",
        "print(getSum([1, 2, 3, 4]))\n"
      ],
      "metadata": {
        "colab": {
          "base_uri": "https://localhost:8080/"
        },
        "id": "3Cxr4qQiyyCA",
        "outputId": "ddd5ea4f-03d0-4fb0-d08a-3e90c976ea28"
      },
      "execution_count": 7,
      "outputs": [
        {
          "output_type": "stream",
          "name": "stdout",
          "text": [
            "6\n",
            "10\n"
          ]
        }
      ]
    },
    {
      "cell_type": "code",
      "source": [
        "#getSum adalah perintah untuk mendapatkan hasil jumlah seluruh angka. Bagaimana jika kita membutuhkan fungsi getKali untuk mengalikan seluruh angka?\n",
        "\n",
        "def getKali(myList):\n",
        "    hasil = 1\n",
        "    for item in myList:\n",
        "        hasil = hasil * item\n",
        "    return hasil\n",
        "\n",
        "\n",
        "print(getKali([1, 2, 3]))\n",
        "print(getKali([2, 3, 4]))\n",
        "print(getKali([5, 10]))\n"
      ],
      "metadata": {
        "colab": {
          "base_uri": "https://localhost:8080/"
        },
        "id": "QdjAlgsWzZ-f",
        "outputId": "cc8a13b0-b527-495a-f703-3e94ab08cc2f"
      },
      "execution_count": 9,
      "outputs": [
        {
          "output_type": "stream",
          "name": "stdout",
          "text": [
            "6\n",
            "24\n",
            "50\n"
          ]
        }
      ]
    },
    {
      "cell_type": "code",
      "source": [
        "#getSum adalah perintah untuk mendapatkan hasil jumlah seluruh angka. Bagaimana jika kita membutuhkan fungsi getBagi untuk membagikan seluruh angka?\n",
        "\n",
        "def getBagi(myList):\n",
        "    if len(myList) == 0:\n",
        "        return None\n",
        "    hasil = myList[0]\n",
        "    for item in myList[1:]:\n",
        "        hasil = hasil / item\n",
        "    return hasil\n",
        "\n",
        "\n",
        "print(getBagi([100, 2, 5]))\n",
        "print(getBagi([50, 5]))\n",
        "print(getBagi([8, 2, 2]))\n"
      ],
      "metadata": {
        "id": "IYBV0NrNzvGE"
      },
      "execution_count": null,
      "outputs": []
    },
    {
      "cell_type": "code",
      "source": [
        "def getSum(myList):\n",
        "    sum = 0\n",
        "    for row in myList:\n",
        "        for item in row:\n",
        "            sum += item\n",
        "    return sum\n"
      ],
      "metadata": {
        "id": "1WtKR7Bg0hdX"
      },
      "execution_count": 10,
      "outputs": []
    },
    {
      "cell_type": "code",
      "source": [
        "print(getSum([[1, 2, 5], [3, 4, 7]]))\n",
        "print(getSum([[1, 2], [3, 4]]))\n",
        "print(getSum([[1, 2, 3], [4, 5, 6]]))"
      ],
      "metadata": {
        "colab": {
          "base_uri": "https://localhost:8080/"
        },
        "id": "IVzbcXY60nCr",
        "outputId": "f55e8b9c-0018-4385-a90b-187942972cae"
      },
      "execution_count": 11,
      "outputs": [
        {
          "output_type": "stream",
          "name": "stdout",
          "text": [
            "22\n",
            "10\n",
            "21\n"
          ]
        }
      ]
    },
    {
      "cell_type": "code",
      "source": [
        "#Buatlah suatu fungsi untuk membagi 2 himpunan angka, jika getSum untuk menjumlahkan angka!\n",
        "\n",
        "def getBagiSet(list1, list2):\n",
        "    sum1 = sum(list1)\n",
        "    sum2 = sum(list2)\n",
        "    if sum2 == 0:\n",
        "        return None\n",
        "    return sum1 / sum2\n",
        "\n",
        "\n",
        "print(getBagiSet([1, 2, 3], [4, 5]))\n",
        "print(getBagiSet([10, 20], [2, 3]))\n",
        "print(getBagiSet([5, 5], [10]))\n"
      ],
      "metadata": {
        "colab": {
          "base_uri": "https://localhost:8080/"
        },
        "id": "_0AvDN_H0uo5",
        "outputId": "0b1070a5-0522-4c62-f352-78e0b9b5f9fe"
      },
      "execution_count": 12,
      "outputs": [
        {
          "output_type": "stream",
          "name": "stdout",
          "text": [
            "0.6666666666666666\n",
            "6.0\n",
            "1.0\n"
          ]
        }
      ]
    },
    {
      "cell_type": "code",
      "source": [
        "#Buatlah suatu fungsi untuk : mengurangi 2 himpunan angka, jika getSum untuk menjumlahkan angka!\n",
        "\n",
        "def getKurangSet(list1, list2):\n",
        "    sum1 = sum(list1)\n",
        "    sum2 = sum(list2)\n",
        "    return sum1 - sum2\n",
        "\n",
        "# Contoh penggunaan\n",
        "print(getKurangSet([10, 20, 30], [5, 5]))     # (10+20+30) - (5+5) = 50\n",
        "print(getKurangSet([100], [25, 25, 25]))      # 100 - (75) = 25\n",
        "print(getKurangSet([7, 3], [2, 1]))           # (10) - (3) = 7\n"
      ],
      "metadata": {
        "colab": {
          "base_uri": "https://localhost:8080/"
        },
        "id": "pnthwnqp1aJQ",
        "outputId": "a7fb83c3-7090-4209-901f-051a2be111a3"
      },
      "execution_count": 13,
      "outputs": [
        {
          "output_type": "stream",
          "name": "stdout",
          "text": [
            "50\n",
            "25\n",
            "7\n"
          ]
        }
      ]
    }
  ]
}